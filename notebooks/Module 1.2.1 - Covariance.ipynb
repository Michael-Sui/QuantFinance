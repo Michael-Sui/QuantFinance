{
 "cells": [
  {
   "cell_type": "markdown",
   "metadata": {},
   "source": [
    "# Introduction to Quantitative Finance\n",
    "\n",
    "Copyright (c) 2019 Python Charmers Pty Ltd, Australia, <https://pythoncharmers.com>. All rights reserved.\n",
    "\n",
    "<img src=\"img/python_charmers_logo.png\" width=\"300\" alt=\"Python Charmers Logo\">\n",
    "\n",
    "Published under the Creative Commons Attribution-NonCommercial 4.0 International (CC BY-NC 4.0) license. See `LICENSE.md` for details.\n",
    "\n",
    "Sponsored by Tibra Global Services, <https://tibra.com>\n",
    "\n",
    "<img src=\"img/tibra_logo.png\" width=\"300\" alt=\"Tibra Logo\">\n",
    "\n",
    "\n",
    "## Module 1.2: Covariance and Correlation\n",
    "\n",
    "### 1.2.1 Covariance\n",
    "\n",
    "The Covariance is a measure of how much two variables \"move together\". A positive covariance between two variables, say $X$ and $Y$, indicates that when $X$ increases, $Y$ increases. Further, if $X$ decreases, $Y$ decreases also. A *negative* covariance indicates that if $X$ increases, $Y$ decreases, and vice versa.\n",
    "\n",
    "More technically, rather than say \"decreases\", the concept is more formally described as \"with positive covariance, if $X$ is greater than its mean, then $Y$ will likely be greater than its mean also\".\n",
    "\n",
    "To investigate this further, let's take a quick detour through the concept of an **Expected value**."
   ]
  },
  {
   "cell_type": "code",
   "execution_count": 1,
   "metadata": {},
   "outputs": [],
   "source": [
    "%run setup.ipy"
   ]
  },
  {
   "cell_type": "markdown",
   "metadata": {},
   "source": [
    "### Expected Value\n",
    "\n",
    "The expected value of a variable, say $X$, is the centre point for its data, and is usually the **mean** of the data."
   ]
  },
  {
   "cell_type": "code",
   "execution_count": 2,
   "metadata": {},
   "outputs": [],
   "source": [
    "X = [2, 3, 2, 1, 3, 5, 1, 1, 3, 1, 4, 5, 5, 2, 5, 6, 3, 5, 3, 6]  # Dice rolls"
   ]
  },
  {
   "cell_type": "code",
   "execution_count": 3,
   "metadata": {},
   "outputs": [],
   "source": [
    "sample_expected_value = float(sum(X)) / float(len(X))  # Alternatively, np.mean(X)"
   ]
  },
  {
   "cell_type": "code",
   "execution_count": 4,
   "metadata": {},
   "outputs": [
    {
     "data": {
      "text/plain": [
       "3.3"
      ]
     },
     "execution_count": 4,
     "metadata": {},
     "output_type": "execute_result"
    }
   ],
   "source": [
    "sample_expected_value"
   ]
  },
  {
   "cell_type": "markdown",
   "metadata": {},
   "source": [
    "It is important to note that in the above, we computed the *sample mean*, which is an approximation of the population mean. In \"Expected value\" terms, we have the *true expected value*, indicated by $E[X]$ and alternatively the sample mean, usually indicated by $\\bar{X}$. We won't be dwelling too much on this differentiation at the moment, but will return to the concept in a later module.\n",
    "\n",
    "The [Law of large numbers](https://en.wikipedia.org/wiki/Law_of_large_numbers) states that if you perform an experiment a large number of times, the average of the results of those experiments will approximate the expected value. Further, and with more experiments, the average of results will tend to be closer to the true expected value. In our example above, if we roll the dice *many* more times, our expected value will approximate the true value (of 3.5).\n",
    "\n",
    "\n",
    "In `statsmodels`, we can use a Description object to compute the mean. This provides more statistics than we need at the moment, but we will use the other features later on. NumPy also has a `np.mean` function if you need just that one value."
   ]
  },
  {
   "cell_type": "code",
   "execution_count": 5,
   "metadata": {},
   "outputs": [],
   "source": [
    "import statsmodels.api as sm"
   ]
  },
  {
   "cell_type": "code",
   "execution_count": 6,
   "metadata": {},
   "outputs": [],
   "source": [
    "d = sm.stats.DescrStatsW(X)"
   ]
  },
  {
   "cell_type": "code",
   "execution_count": 8,
   "metadata": {},
   "outputs": [
    {
     "data": {
      "text/plain": [
       "2.8099999999999996"
      ]
     },
     "execution_count": 8,
     "metadata": {},
     "output_type": "execute_result"
    }
   ],
   "source": [
    "d.var"
   ]
  },
  {
   "cell_type": "markdown",
   "metadata": {},
   "source": [
    "Another way to consider this is as a series of probabilities against the value. Our expected frequency for each value in this sample is simply the number of times we have seen each:"
   ]
  },
  {
   "cell_type": "code",
   "execution_count": 9,
   "metadata": {},
   "outputs": [
    {
     "data": {
      "text/plain": [
       "[(1, 4), (2, 3), (3, 5), (4, 1), (5, 5), (6, 2)]"
      ]
     },
     "execution_count": 9,
     "metadata": {},
     "output_type": "execute_result"
    }
   ],
   "source": [
    "from collections import Counter\n",
    "counts = Counter(X)\n",
    "sorted(counts.items()) # First value in each pair is the dice roll, the second is how many times we saw it"
   ]
  },
  {
   "cell_type": "markdown",
   "metadata": {},
   "source": [
    "Dividing the frequency through by the total, we obtain the estimated probability of each dice roll value:"
   ]
  },
  {
   "cell_type": "code",
   "execution_count": 10,
   "metadata": {},
   "outputs": [
    {
     "name": "stdout",
     "output_type": "stream",
     "text": [
      "1 0.2\n",
      "2 0.15\n",
      "3 0.25\n",
      "4 0.05\n",
      "5 0.25\n",
      "6 0.1\n"
     ]
    }
   ],
   "source": [
    "for value in range(1, 7):  # Note: doesn't include endpoint (7)\n",
    "    p = float(counts[value]) / len(X)\n",
    "    print(value, p)"
   ]
  },
  {
   "cell_type": "markdown",
   "metadata": {},
   "source": [
    "Multiplying each of these by the dice roll, we get the expected value again:"
   ]
  },
  {
   "cell_type": "code",
   "execution_count": 11,
   "metadata": {},
   "outputs": [],
   "source": [
    "current_sum = 0\n",
    "\n",
    "for value in range(1, 7):  # Note: doesn't include endpoint (7)\n",
    "    p = float(counts[value]) / len(X)\n",
    "    current_sum += (p * value)"
   ]
  },
  {
   "cell_type": "code",
   "execution_count": 12,
   "metadata": {},
   "outputs": [
    {
     "data": {
      "text/plain": [
       "3.3000000000000003"
      ]
     },
     "execution_count": 12,
     "metadata": {},
     "output_type": "execute_result"
    }
   ],
   "source": [
    "current_sum"
   ]
  },
  {
   "cell_type": "markdown",
   "metadata": {},
   "source": [
    "As noted above, this value is an estimation of the true expected value (and it is wrong by 0.2 from the true value). If we know the underlying distribution, we can compute the true expected value using the underlying distribution. In this case, we know each possible dice roll has a likelihood of $\\frac{1}{6}$ of appearing, therefore we can compute the expected value:"
   ]
  },
  {
   "cell_type": "code",
   "execution_count": 13,
   "metadata": {},
   "outputs": [],
   "source": [
    "expected_value = 0\n",
    "\n",
    "for value in range(1, 7):\n",
    "    expected_value += float(value) * (1/6)"
   ]
  },
  {
   "cell_type": "code",
   "execution_count": 14,
   "metadata": {},
   "outputs": [
    {
     "data": {
      "text/plain": [
       "3.5"
      ]
     },
     "execution_count": 14,
     "metadata": {},
     "output_type": "execute_result"
    }
   ],
   "source": [
    "expected_value"
   ]
  },
  {
   "cell_type": "markdown",
   "metadata": {},
   "source": [
    "Note that, as in the above, the expected value does not have to be a possible outcome."
   ]
  },
  {
   "cell_type": "markdown",
   "metadata": {},
   "source": [
    "For a continuous value, the expected value is:\n",
    "\n",
    "$E[X] = \\int_{-\\infty}^\\infty x f(x) dx$\n",
    "\n",
    "where $f(x)$ is the probability density function of the random variable. Often this is much harder to compute. If the data comes from a known distribution, the equation for computing the expected value may have already been worked out. If not, another option is to just use the sample expected value for a very large sample, but do note that this is an approximation."
   ]
  },
  {
   "cell_type": "markdown",
   "metadata": {},
   "source": [
    "#### Exercise\n",
    "\n",
    "A continuous uniform distribution has a minimum value ($a$) and a maximum value ($b$), and has an equal chance of any value between $a$ and $b$ occurring.\n",
    "\n",
    "1. Create a plot showing a continuous uniform distribution. We covered this distribution in Module 1.1.2.\n",
    "1. What is the Expected value for a continuous uniform distribution? Think about this intuitively first, and then solve more formally using the above equation for computing the expected value."
   ]
  },
  {
   "cell_type": "code",
   "execution_count": 15,
   "metadata": {},
   "outputs": [
    {
     "name": "stdout",
     "output_type": "stream",
     "text": [
      "E[x] = (a + b) / 2\n"
     ]
    },
    {
     "data": {
      "image/png": "[encoded data removed]",
      "text/plain": [
       "<Figure size 640x480 with 1 Axes>"
      ]
     },
     "metadata": {},
     "output_type": "display_data"
    }
   ],
   "source": [
    "# (1)\n",
    "a = 0\n",
    "b = 20\n",
    "x = np.linspace(a,b , 200)\n",
    "y = [1/(b-a)] * 200\n",
    "plt.plot(x, y)\n",
    "\n",
    "# \n",
    "print(\"E[x] = (a + b) / 2\")\n"
   ]
  },
  {
   "cell_type": "markdown",
   "metadata": {},
   "source": [
    "*For solutions, see `solutions/uniform.py`*"
   ]
  },
  {
   "cell_type": "markdown",
   "metadata": {},
   "source": [
    "### Computing Covariance\n",
    "\n",
    "The Covariance between two variables, $X$ and $Y$, is denoted as $cov(X,Y)$ and can be computed using the Expected Values of $X$ and $Y$.\n",
    "\n",
    "$cov(X,Y) = E[(X-E[X])(Y-E[Y])]$\n",
    "\n",
    "This reduces to the form:\n",
    "\n",
    "$cov(X,Y) = E[XY] - E[X]E[Y]$\n",
    "\n",
    "(To do the reduction, note that $E[E[X]] = E[X]$)\n",
    "\n",
    "In this form, it is easily computable. If you have sample data instead of the real underlying distribution, you can replace $E[X]$ with the value $\\bar{X}$, $E[Y]$ with value $\\bar{Y}$, and $E[XY]$ with the value $\\bar{XY}$. This obtains an estimate for the covariance."
   ]
  },
  {
   "cell_type": "markdown",
   "metadata": {},
   "source": [
    "Using the NumPy library, we can compute (an estimate of) the covariance using the `np.cov` function:"
   ]
  },
  {
   "cell_type": "code",
   "execution_count": 17,
   "metadata": {},
   "outputs": [
    {
     "data": {
      "text/plain": [
       "[<matplotlib.lines.Line2D at 0x7fe9c83302e0>]"
      ]
     },
     "execution_count": 17,
     "metadata": {},
     "output_type": "execute_result"
    },
    {
     "data": {
      "image/png": "[encoded data removed]",
      "text/plain": [
       "<Figure size 640x480 with 1 Axes>"
      ]
     },
     "metadata": {},
     "output_type": "display_data"
    }
   ],
   "source": [
    "X = np.linspace(-10, 10, 100)\n",
    "Y = np.random.random(100) + np.linspace(0, 1, 100)\n",
    "plt.plot(X, Y, 'o')"
   ]
  },
  {
   "cell_type": "code",
   "execution_count": 19,
   "metadata": {},
   "outputs": [
    {
     "data": {
      "text/plain": [
       "array([0.51038776, 0.10349102, 0.83792296, 0.65862875, 0.20534627,\n",
       "       0.10747301, 0.36727242, 0.53298431, 0.60691673, 1.07509466,\n",
       "       0.68939129, 0.21771327, 0.64780526, 0.29301523, 0.77334263,\n",
       "       0.24902176, 0.60473532, 0.66063568, 0.61187927, 1.1588865 ,\n",
       "       1.09957651, 0.34099718, 1.0207333 , 1.00856757, 0.6787647 ,\n",
       "       0.50142745, 1.01139032, 0.87070714, 0.47443839, 0.9601369 ,\n",
       "       0.42239609, 1.29265185, 0.65348242, 0.52775567, 0.67045432,\n",
       "       0.85825262, 1.22088131, 0.43635447, 0.48823949, 1.36090367,\n",
       "       0.92264631, 0.81530404, 0.9140179 , 1.14893584, 1.09331586,\n",
       "       1.45343472, 1.309068  , 1.05717724, 1.10706862, 0.80926897,\n",
       "       0.51080455, 1.27810741, 0.87600172, 0.54943817, 1.04706378,\n",
       "       0.62375027, 0.73771207, 1.35715809, 0.77827853, 0.63795554,\n",
       "       1.15677031, 1.33514963, 1.42928635, 0.96877985, 0.84168803,\n",
       "       1.53191008, 0.90662754, 1.22204194, 0.73091638, 1.4115427 ,\n",
       "       1.19911996, 0.93980441, 1.70452813, 0.82292697, 1.41026101,\n",
       "       1.36655511, 1.25012357, 0.90775973, 1.52525943, 1.2266541 ,\n",
       "       1.00933515, 1.32515462, 1.00861906, 1.75934853, 1.67347187,\n",
       "       1.28081005, 1.05734141, 1.12363131, 0.92947025, 1.59229749,\n",
       "       1.79336229, 1.38007381, 1.06937179, 1.00966466, 1.6037698 ,\n",
       "       1.17257293, 1.25905892, 1.31771472, 1.19698991, 1.8589554 ])"
      ]
     },
     "execution_count": 19,
     "metadata": {},
     "output_type": "execute_result"
    }
   ],
   "source": [
    "Y"
   ]
  },
  {
   "cell_type": "code",
   "execution_count": 20,
   "metadata": {},
   "outputs": [
    {
     "data": {
      "text/plain": [
       "array([[34.35023637,  1.61562881],\n",
       "       [ 1.61562881,  0.15934469]])"
      ]
     },
     "execution_count": 20,
     "metadata": {},
     "output_type": "execute_result"
    }
   ],
   "source": [
    "C = np.cov(X, Y)\n",
    "C"
   ]
  },
  {
   "cell_type": "markdown",
   "metadata": {},
   "source": [
    "Wait, that's not one value! That is a covariance matrix, which includes the variance values on the diagonal. In this case, `C[0][0]` is the same as `np.var(X)`, because $cov(X, X) = var(X)$ (and similarly for $Y$):"
   ]
  },
  {
   "cell_type": "code",
   "execution_count": 21,
   "metadata": {},
   "outputs": [
    {
     "data": {
      "text/plain": [
       "(34.00673400673401, 0.15775124784571584)"
      ]
     },
     "execution_count": 21,
     "metadata": {},
     "output_type": "execute_result"
    }
   ],
   "source": [
    "np.var(X), np.var(Y)"
   ]
  },
  {
   "cell_type": "markdown",
   "metadata": {},
   "source": [
    "Further, we can see from the results that $cov(X,Y) = cov(Y, X)$. You can confirm this by swapping $X$ and $Y$ in the covariance equation above."
   ]
  },
  {
   "cell_type": "markdown",
   "metadata": {},
   "source": [
    "#### Exercise\n",
    "\n",
    "1. Create two sets of numbers that have a *negative correlation*\n",
    "2. Create two sets of numbers that have approximately a *zero correlation*"
   ]
  },
  {
   "cell_type": "code",
   "execution_count": 24,
   "metadata": {},
   "outputs": [
    {
     "name": "stdout",
     "output_type": "stream",
     "text": [
      "[[ 34.34 -34.34]\n",
      " [-34.34  34.34]]\n",
      "0.16990813980548042\n"
     ]
    }
   ],
   "source": [
    "# (1)\n",
    "X = np.linspace(-10,10,101)\n",
    "Y = np.linspace(10,-10,101)\n",
    "print(np.cov(X,Y))\n",
    "# (2)\n",
    "x = np.random.random(100) #+ np.linspace(0, 1, 100)\n",
    "y = np.random.random(100)\n",
    "\n",
    "correlation, p_value = stats.pearsonr(x, y)\n",
    "print(correlation)"
   ]
  },
  {
   "cell_type": "markdown",
   "metadata": {},
   "source": [
    "*For solutions, see `solutions/correlations.py`*"
   ]
  },
  {
   "cell_type": "markdown",
   "metadata": {},
   "source": [
    "### Dimensionality Analysis\n",
    "\n",
    "In data, numbers are rarely in isolation - they normally have units associated with them. For instance, here are a bunch of heights and weights of 30 people:"
   ]
  },
  {
   "cell_type": "code",
   "execution_count": 25,
   "metadata": {},
   "outputs": [],
   "source": [
    "heights = np.array([178.64530591, 173.06618977, 155.22558268, 186.8983648 ,\n",
    "       149.16650972, 164.3049925 , 156.8397536 , 166.07190208,\n",
    "       174.11183283, 155.54411733, 152.61490567, 182.89611452,\n",
    "       145.79498225, 169.50606044, 157.94949789, 170.43628341,\n",
    "       175.95694371, 178.09153374, 178.51960883, 173.56347301,\n",
    "       158.79606688, 168.593175  , 159.88907252, 174.0085056 ,\n",
    "       172.05981633, 175.79140631, 165.6368616 , 191.2270476 ,\n",
    "       179.92045118, 153.1153195 ])"
   ]
  },
  {
   "cell_type": "code",
   "execution_count": 26,
   "metadata": {},
   "outputs": [],
   "source": [
    "weights = np.array([ 88.39616195,  63.77670541,  82.1551606 , 102.81391498,\n",
    "        54.11862754,  73.19813772,  87.89767135,  77.42374335,\n",
    "        68.65163289,  81.00977302,  76.8384397 , 119.6155542 ,\n",
    "        92.78823634,  73.24696289,  72.12448243,  87.41055872,\n",
    "        88.22139197, 102.50923756,  83.48268745,  82.69144239,\n",
    "        72.76970268,  96.6186149 ,  81.97160878,  85.20213248,\n",
    "        95.62580765,  91.80510994,  67.09249674,  86.42500849,\n",
    "        83.76262709,  71.82791366])"
   ]
  },
  {
   "cell_type": "markdown",
   "metadata": {},
   "source": [
    "The covariance of these is strong (taller people tend to weigh more):"
   ]
  },
  {
   "cell_type": "code",
   "execution_count": 27,
   "metadata": {},
   "outputs": [
    {
     "data": {
      "text/plain": [
       "73.26405232380189"
      ]
     },
     "execution_count": 27,
     "metadata": {},
     "output_type": "execute_result"
    }
   ],
   "source": [
    "np.cov(heights, weights)[0][1]"
   ]
  },
  {
   "cell_type": "markdown",
   "metadata": {},
   "source": [
    "That's a positive value, and we could compare this against a similar covariance, *only if the units match*. That is, our heights are in centimetres, and our weights are in kilograms, so our covariance has a **unit of cmkg**. We can only compare other covariances with the same unit.\n",
    "\n",
    "Further, the unit cmkg has little meaning to most people and therefore the actual value of the covariance is hard to reason about. For contrast, take the standard deviation of the heights:"
   ]
  },
  {
   "cell_type": "code",
   "execution_count": 28,
   "metadata": {},
   "outputs": [
    {
     "data": {
      "text/plain": [
       "11.384729794575746"
      ]
     },
     "execution_count": 28,
     "metadata": {},
     "output_type": "execute_result"
    }
   ],
   "source": [
    "np.std(heights)  # Remembering that np.var(heights) will be in cm squared!"
   ]
  },
  {
   "cell_type": "markdown",
   "metadata": {},
   "source": [
    "We can intuitively get an idea that lots of people will have heights \"about 11cm from the mean\", and one can easily picture that a good portion of the population lie within this 11cm radius around the mean, i.e. the boundary:"
   ]
  },
  {
   "cell_type": "code",
   "execution_count": 29,
   "metadata": {},
   "outputs": [
    {
     "data": {
      "text/plain": [
       "(156.75665944575758, 179.52611903490907)"
      ]
     },
     "execution_count": 29,
     "metadata": {},
     "output_type": "execute_result"
    }
   ],
   "source": [
    "(np.mean(heights) - np.std(heights)), (np.mean(heights) + np.std(heights))"
   ]
  },
  {
   "cell_type": "markdown",
   "metadata": {},
   "source": [
    "However, we can not get a similar intuitive grasp on what it means to have a covariance of 73.2 cmkg, and it might actually be misleading to try and relate that to other known concepts.\n",
    "\n",
    "It is for this reason that we usually use the correlation, which addresses this dimensionality problem. We will investigate the correlation in the next module."
   ]
  }
 ],
 "metadata": {
  "kernelspec": {
   "display_name": "Python 3 (ipykernel)",
   "language": "python",
   "name": "python3"
  },
  "language_info": {
   "codemirror_mode": {
    "name": "ipython",
    "version": 3
   },
   "file_extension": ".py",
   "mimetype": "text/x-python",
   "name": "python",
   "nbconvert_exporter": "python",
   "pygments_lexer": "ipython3",
   "version": "3.9.13"
  }
 },
 "nbformat": 4,
 "nbformat_minor": 2
}
